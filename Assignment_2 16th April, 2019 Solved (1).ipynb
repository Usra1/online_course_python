{
 "cells": [
  {
   "cell_type": "markdown",
   "metadata": {},
   "source": [
    "<h3>Q no 1:  Write a python program to find number of occurrences of given number in a list with out using built-in methods</h3>\n",
    "<h4>**1 generate a list of some random num which is repeated again and again</h4>\n",
    "<h4>**2 take user input any number</h4>\n",
    "<h4>**3 find the number of occurrences of that num in your list</h4>\n",
    "<h4>**4 print some message to user with that result</h4>"
   ]
  },
  {
   "cell_type": "code",
   "execution_count": null,
   "metadata": {},
   "outputs": [],
   "source": [
    "appeared = 0\n",
    "myList = [8, 2, 3, 6, 8, 6, 3, 8, 7, 3]\n",
    "n = len(myList)\n",
    "user_input = int(input(\"Enter your number:\"))\n",
    "for i in range(n):\n",
    "    if user_input == myList[i]:\n",
    "        appeared =appeared + 1\n",
    "print(\"The count of the number is:\", appeared)\n"
   ]
  },
  {
   "cell_type": "code",
   "execution_count": null,
   "metadata": {},
   "outputs": [],
   "source": []
  },
  {
   "cell_type": "markdown",
   "metadata": {},
   "source": [
    "<h3>Q no 2:   [\"www.zframez.com\", \"www.wikipedia.org\", \"www.asp.net\", \"www.abcd.in\"]\n",
    "<br/><br/><br/><br/><br/>\n",
    "Write a python program to print website suffixes (com , org , net ,in) from this list\n",
    "</h3>"
   ]
  },
  {
   "cell_type": "code",
   "execution_count": 1,
   "metadata": {},
   "outputs": [
    {
     "name": "stdout",
     "output_type": "stream",
     "text": [
      "['www.zframez.com', 'www.wikipedia.org', 'www.asp.net', 'www.abcd.in']\n",
      "\n",
      "The Suffixes in the Given Line are as Follow :\n",
      "\n",
      "['com', 'org', 'net', 'in']\n"
     ]
    }
   ],
   "source": [
    "start=[]\n",
    "first=[\"www.zframez.com\", \"www.wikipedia.org\", \"www.asp.net\", \"www.abcd.in\"]\n",
    "print(first)\n",
    "print(\"\\nThe Suffixes in the Given Line are as Follow :\\n\")\n",
    "      \n",
    "array=[\"www.zframez.com\"[::-1], \"www.wikipedia.org\"[::-1], \"www.asp.net\"[::-1], \"www.abcd.in\"[::-1]] \n",
    "for i in range(len(array)):\n",
    "    for j in range(len(array[i])):\n",
    "        if array[i][j] == \".\":\n",
    "            yes=(array[i][0:j][::-1])\n",
    "            start.append(yes)\n",
    "            final=yes[::-1]\n",
    "            break\n",
    "print(start)         "
   ]
  },
  {
   "cell_type": "code",
   "execution_count": null,
   "metadata": {},
   "outputs": [],
   "source": []
  },
  {
   "cell_type": "markdown",
   "metadata": {},
   "source": [
    "<h3> Q no 3 : Write a program which can compute the factorial of a given numbers.</h3>\n",
    "<br/>\n",
    "<br/>\n",
    "<h4>**1 first take user input any number</h4>\n",
    "<h4>**2 calculate factorial of that input and then print the result to user</h4>"
   ]
  },
  {
   "cell_type": "code",
   "execution_count": 2,
   "metadata": {},
   "outputs": [
    {
     "name": "stdout",
     "output_type": "stream",
     "text": [
      "Enter a number for factorial: 3\n",
      "Factorial of the number is: \n",
      "6\n"
     ]
    }
   ],
   "source": [
    "n =int(input(\"Enter a number for factorial: \"))\n",
    "fact=1\n",
    "while(n>0):\n",
    "    fact=fact*n\n",
    "    n = n-1\n",
    "print(\"Factorial of the number is: \")\n",
    "print(fact)"
   ]
  },
  {
   "cell_type": "code",
   "execution_count": null,
   "metadata": {},
   "outputs": [],
   "source": []
  },
  {
   "cell_type": "code",
   "execution_count": null,
   "metadata": {},
   "outputs": [],
   "source": []
  },
  {
   "cell_type": "code",
   "execution_count": null,
   "metadata": {},
   "outputs": [],
   "source": []
  },
  {
   "cell_type": "markdown",
   "metadata": {},
   "source": [
    "<h3>Q 4 (a) :  If you could invite anyone, living or deceased, to dinner, who\n",
    "would you invite? Make a list that includes at least three people you’d like to\n",
    "invite to dinner. Then use your list to print a message to each person, inviting\n",
    "them to dinner.</h3>"
   ]
  },
  {
   "cell_type": "code",
   "execution_count": 3,
   "metadata": {},
   "outputs": [
    {
     "name": "stdout",
     "output_type": "stream",
     "text": [
      "Enter the name please\n",
      "hgsd\n",
      "Enter the name please\n",
      "jhsh\n",
      "Enter the name please\n",
      "jbd\n",
      "['hgsd', 'jhsh', 'jbd']\n",
      "hgsd  : Hello, would you like to join me for a dinner please.\n",
      "\n",
      "jhsh  : Hello, would you like to join me for a dinner please.\n",
      "\n",
      "jbd  : Hello, would you like to join me for a dinner please.\n",
      "\n"
     ]
    }
   ],
   "source": [
    "name=[]\n",
    "for i in range(3):\n",
    "    put=input(\"Enter the name please\\n\")\n",
    "    name.append(put)\n",
    "print(name)\n",
    "mes=\" : Hello, would you like to join me for a dinner please.\\n\"\n",
    "for r in range(len(name)):\n",
    "    print(name[r]+\" \"+ mes)\n"
   ]
  },
  {
   "cell_type": "code",
   "execution_count": null,
   "metadata": {},
   "outputs": [],
   "source": []
  },
  {
   "cell_type": "code",
   "execution_count": null,
   "metadata": {},
   "outputs": [],
   "source": []
  },
  {
   "cell_type": "markdown",
   "metadata": {},
   "source": [
    "<h3>Q 4 (b) : You just heard that one of your guests can’t make the\n",
    "dinner, so you need to send out a new set of invitations. You’ll have to think of\n",
    "someone else to invite.<br/></br><br/>\n",
    "•\t Start with your program from Q 4 (a). Add a print statement at the\n",
    "end of your program stating the name of the guest who can’t make it.<br/></br><br/>\n",
    "•\t Modify your list, replacing the name of the guest who can’t make it with\n",
    "the name of the new person you are inviting.<br/></br><br/>\n",
    "•\t Print a second set of invitation messages, one for each person who is still\n",
    "in your list.<br/></br><br/></h3>"
   ]
  },
  {
   "cell_type": "code",
   "execution_count": 4,
   "metadata": {},
   "outputs": [
    {
     "name": "stdout",
     "output_type": "stream",
     "text": [
      "jhsh: Sorry i can not come\n"
     ]
    }
   ],
   "source": [
    "print(name[1]+\":\" + \" \"+ \"Sorry i can not come\")"
   ]
  },
  {
   "cell_type": "code",
   "execution_count": 5,
   "metadata": {},
   "outputs": [
    {
     "name": "stdout",
     "output_type": "stream",
     "text": [
      "Enter the name please\n",
      "usra\n",
      "Enter the name please\n",
      "anika\n",
      "Enter the name please\n",
      "seemi\n",
      "['usra', 'anika', 'seemi']\n",
      "usra  : Hello, would you like to join me for a dinner please.\n",
      "\n",
      "anika  : Hello, would you like to join me for a dinner please.\n",
      "\n",
      "seemi  : Hello, would you like to join me for a dinner please.\n",
      "\n",
      "anika: sorry i can not come\n",
      "enter the new person\n",
      "sara\n",
      "['usra', 'anika', 'seemi']\n",
      "['usra', 'sara', 'seemi']\n"
     ]
    }
   ],
   "source": [
    "name=[]\n",
    "for i in range(3):\n",
    "    put=input(\"Enter the name please\\n\")\n",
    "    name.append(put)\n",
    "print(name)\n",
    "mes=\" : Hello, would you like to join me for a dinner please.\\n\"\n",
    "for r in range(len(name)):\n",
    "    print(name[r]+\" \"+ mes)\n",
    "print(name[1]+\":\" + \" \"+ \"sorry i can not come\")\n",
    "new=input(\"enter the new person\\n\")\n",
    "print(name)\n",
    "name[1] = new\n",
    "print(name)"
   ]
  },
  {
   "cell_type": "markdown",
   "metadata": {},
   "source": [
    "<h3>Q 4 (c) : You just found a bigger dinner table, so now more space is\n",
    "available. Think of three more guests to invite to dinner.<br/></br><br/>\n",
    "•\t Start with your program from Q 4 (a) and (b) Add a print\n",
    "statement to the end of your program informing people that you found a\n",
    "bigger dinner table.<br/></br><br/>\n",
    "•\t Use insert() to add one new guest to the beginning of your list.<br/></br><br/>\n",
    "•\t Use insert() to add one new guest to the middle of your list.<br/></br><br/>\n",
    "•\t Use append() to add one new guest to the end of your list.<br/></br><br/>\n",
    "•\t Print a new set of invitation messages, one for each person in your list.<br/></br><br/></h3>"
   ]
  },
  {
   "cell_type": "code",
   "execution_count": 6,
   "metadata": {},
   "outputs": [
    {
     "name": "stdout",
     "output_type": "stream",
     "text": [
      "['usra', 'sara', 'seemi']\n",
      "['alvina', 'usra', 'sara', 'seemi']\n",
      "2\n",
      "['alvina', 'usra', 'sana', 'sara', 'seemi']\n",
      "['alvina', 'usra', 'sana', 'sara', 'seemi', 'rubama']\n",
      "alvina  : Hello, would you like to join me for a dinner please.\n",
      "\n",
      "usra  : Hello, would you like to join me for a dinner please.\n",
      "\n",
      "sana  : Hello, would you like to join me for a dinner please.\n",
      "\n",
      "sara  : Hello, would you like to join me for a dinner please.\n",
      "\n",
      "seemi  : Hello, would you like to join me for a dinner please.\n",
      "\n",
      "rubama  : Hello, would you like to join me for a dinner please.\n",
      "\n"
     ]
    }
   ],
   "source": [
    "print(name)\n",
    "name.insert(0, 'alvina')\n",
    "print(name)\n",
    "mid= int(len(name)/2)\n",
    "print(mid)\n",
    "name.insert(mid, 'sana')\n",
    "print(name)\n",
    "name.append('rubama')\n",
    "print(name)\n",
    "mes=\" : Hello, would you like to join me for a dinner please.\\n\"\n",
    "for r in range(len(name)):\n",
    "    print(name[r]+\" \"+ mes)"
   ]
  },
  {
   "cell_type": "code",
   "execution_count": null,
   "metadata": {},
   "outputs": [],
   "source": []
  },
  {
   "cell_type": "code",
   "execution_count": null,
   "metadata": {},
   "outputs": [],
   "source": []
  },
  {
   "cell_type": "markdown",
   "metadata": {},
   "source": [
    "<h5> Q 5 : Here you have some data in variable below, your task is to make a list of specific word Surah then print the list and length of list</h5>\n"
   ]
  },
  {
   "cell_type": "code",
   "execution_count": 7,
   "metadata": {},
   "outputs": [
    {
     "name": "stdout",
     "output_type": "stream",
     "text": [
      "['Sura', 'I', 'Who', 'believe', 'in', 'the', 'Unseen,', 'Sura', 'Are', 'steadfast', 'in', 'prayer,', 'And', 'spend', 'Sura', 'out', 'of', 'what', 'We', 'Have', 'provided', 'for', 'them;']\n",
      "['Sura', 'Sura', 'Sura']\n",
      "3\n"
     ]
    }
   ],
   "source": [
    "sura_list=[]\n",
    "data = \"Sura I Who believe in the Unseen, Sura Are steadfast in prayer, And spend Sura out of what We Have provided for them;\"\n",
    "xyz=data.split(\" \")\n",
    "print(xyz)\n",
    "for n in range(len(xyz)):\n",
    "    if xyz[n] == 'Sura':\n",
    "        sura_list.append(xyz[n])\n",
    "print(sura_list)\n",
    "print(len(sura_list))\n"
   ]
  },
  {
   "cell_type": "code",
   "execution_count": null,
   "metadata": {},
   "outputs": [],
   "source": []
  }
 ],
 "metadata": {
  "kernelspec": {
   "display_name": "Python 3",
   "language": "python",
   "name": "python3"
  },
  "language_info": {
   "codemirror_mode": {
    "name": "ipython",
    "version": 3
   },
   "file_extension": ".py",
   "mimetype": "text/x-python",
   "name": "python",
   "nbconvert_exporter": "python",
   "pygments_lexer": "ipython3",
   "version": "3.7.1"
  }
 },
 "nbformat": 4,
 "nbformat_minor": 2
}
